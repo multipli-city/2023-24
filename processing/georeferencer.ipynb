{
 "cells": [
  {
   "cell_type": "markdown",
   "metadata": {},
   "source": [
    "# Georeference images based on a pair [id ; extent]"
   ]
  },
  {
   "cell_type": "code",
   "execution_count": 1,
   "metadata": {},
   "outputs": [],
   "source": [
    "import rasterio\n",
    "from rasterio.transform import from_origin\n",
    "from PIL import Image\n",
    "import imageio\n",
    "import numpy as np\n",
    "import os\n",
    "\n",
    "def calculate_pixel_size(extent, width, height):\n",
    "    pixel_size_x = (extent[2] - extent[0]) / width\n",
    "    pixel_size_y = (extent[3] - extent[1]) / height\n",
    "    return pixel_size_x, pixel_size_y\n",
    "\n",
    "def get_number_of_bands(image_path):\n",
    "    try:\n",
    "        reader = imageio.get_reader(image_path)\n",
    "        num_bands = reader.get_data(0).shape[-1]\n",
    "        reader.close()\n",
    "        return num_bands\n",
    "\n",
    "    except Exception as e:\n",
    "        return None\n",
    "\n",
    "def create_georeferenced_raster(image_path, out_dir, extent):\n",
    "    # Make output directory\n",
    "    if not os.path.exists(out_dir):\n",
    "        os.makedirs(out_dir)\n",
    "\n",
    "    # Read img\n",
    "    img = imageio.imread(image_path)\n",
    "\n",
    "    # Georeference it\n",
    "    height, width, _ = img.shape\n",
    "    pixel_size_x, pixel_size_y = calculate_pixel_size(extent, width, height)\n",
    "\n",
    "    transform = from_origin(extent[0], extent[3], pixel_size_x, pixel_size_y)\n",
    "\n",
    "    # Save it\n",
    "    filename = os.path.basename(image_path).split(\".\")[0]\n",
    "\n",
    "    with rasterio.open(f'{out_dir}/{filename}.tiff', 'w', driver='GTiff', height=height, width=width, count=get_number_of_bands(image_path), dtype=str(img.dtype), crs='EPSG:4326', transform=transform) as dst:\n",
    "        dst.write(img.transpose(2, 0, 1))\n"
   ]
  },
  {
   "cell_type": "code",
   "execution_count": 2,
   "metadata": {},
   "outputs": [
    {
     "name": "stdout",
     "output_type": "stream",
     "text": [
      "   id                                    extent\n",
      "0   0  [0.442059, 0.368963, 0.658653, 0.489495]\n",
      "1   1   [0.715263, 0.310654, 1.005402, 0.51112]\n",
      "2   2  [0.692274, 0.183193, 0.856452, 0.281886]\n",
      "3   3  [0.865723, 0.054862, 0.983933, 0.198455]\n",
      "4   4  [0.390131, 0.077752, 0.656987, 0.344609]\n",
      "5   5   [0.200876, 0.10643, 0.337549, 0.220162]\n",
      "6   6   [0.122379, 0.226932, 0.35506, 0.555998]\n",
      "7   7  [0.039566, 0.569517, 0.363965, 0.737914]\n",
      "8   8   [0.38198, 0.528808, 0.700066, 0.753732]\n",
      "9   9    [0.755275, 0.568778, 0.9006, 0.819824]\n"
     ]
    },
    {
     "name": "stderr",
     "output_type": "stream",
     "text": [
      "C:\\Users\\nerii\\AppData\\Local\\Temp\\ipykernel_9996\\535626829.py:29: DeprecationWarning: Starting with ImageIO v3 the behavior of this function will switch to that of iio.v3.imread. To keep the current behavior (and make this warning disappear) use `import imageio.v2 as imageio` or call `imageio.v2.imread` directly.\n",
      "  img = imageio.imread(image_path)\n",
      "c:\\Users\\nerii\\Desktop\\Work\\DVS\\Multiplicity\\website\\2023-24\\processing\\env_multiplicity\\lib\\site-packages\\PIL\\Image.py:3186: DecompressionBombWarning: Image size (128320830 pixels) exceeds limit of 89478485 pixels, could be decompression bomb DOS attack.\n",
      "  warnings.warn(\n"
     ]
    }
   ],
   "source": [
    "import pandas as pd\n",
    "from ast import literal_eval\n",
    "\n",
    "csv_file_path = 'pairs.csv'\n",
    "\n",
    "df = pd.read_csv(csv_file_path, sep=\";\")\n",
    "df['extent'] = df['extent'].apply(literal_eval)\n",
    "\n",
    "print(df)\n",
    "\n",
    "for x in range(len(df)):\n",
    "    img_id = df.iloc[x][\"id\"]\n",
    "    extent = df.iloc[x][\"extent\"]\n",
    "\n",
    "    in_dir = \"imgs\"\n",
    "    out_dir = 'georefs'\n",
    "\n",
    "    create_georeferenced_raster(f'{in_dir}/{img_id}.png', out_dir, extent)\n"
   ]
  }
 ],
 "metadata": {
  "kernelspec": {
   "display_name": "env_multiplicity",
   "language": "python",
   "name": "python3"
  },
  "language_info": {
   "codemirror_mode": {
    "name": "ipython",
    "version": 3
   },
   "file_extension": ".py",
   "mimetype": "text/x-python",
   "name": "python",
   "nbconvert_exporter": "python",
   "pygments_lexer": "ipython3",
   "version": "3.9.13"
  }
 },
 "nbformat": 4,
 "nbformat_minor": 2
}
